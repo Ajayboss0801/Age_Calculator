{
 "cells": [
  {
   "cell_type": "code",
   "execution_count": 1,
   "id": "6d1b1bce-8b4b-45f7-9f48-167226bd96c1",
   "metadata": {},
   "outputs": [],
   "source": [
    "from datetime import date"
   ]
  },
  {
   "cell_type": "code",
   "execution_count": 6,
   "id": "a35ddbb0-81a7-49d7-9034-5f1d74170d33",
   "metadata": {},
   "outputs": [
    {
     "name": "stdin",
     "output_type": "stream",
     "text": [
      "Enter your Birth Date :  10\n",
      "Enter your birth Months :  01\n",
      "Enter your Birth Year :  1993\n"
     ]
    },
    {
     "name": "stdout",
     "output_type": "stream",
     "text": [
      "Your age is 30 years, 7 months, and 22 days.\n"
     ]
    }
   ],
   "source": [
    "def cal_age(birth_date, current_date):\n",
    "    years = current_date.year - birth_date.year\n",
    "    months = current_date.month - birth_date.month\n",
    "    days = current_date.day - birth_date.day   ###  calculation for the age calculator function\n",
    "    if days < 0:\n",
    "        months -= 1\n",
    "        days += get_days_in_month(birth_date.month, birth_date.year)\n",
    "    if months <0:\n",
    "        years -= 1\n",
    "        months += 12\n",
    "\n",
    "    return years,months,days\n",
    "\n",
    "def get_days_in_month(month ,year):\n",
    "    if month == 2: ### for feb month\n",
    "        if year % 4 == 0 and (year %100 != 0 or year %400 ==0):\n",
    "            return 29 ### leap year\n",
    "        else:\n",
    "            return 28\n",
    "    elif month in [4,6,9,11]: ### for april,june,sep & nov\n",
    "        return 30\n",
    "    else:\n",
    "        return 31    \n",
    "\n",
    "### we will get our input data now\n",
    "birth_day = int(input(\"Enter your Birth Date : \" ))\n",
    "birth_month = int(input(\"Enter your birth Months : \" ))\n",
    "birth_year = int(input(\"Enter your Birth Year : \" ))\n",
    "\n",
    "### current date\n",
    "current_date = date.today()\n",
    "\n",
    "birth_date = date(birth_year,birth_month,birth_day)\n",
    "\n",
    "if birth_date <= current_date:\n",
    "    # Calculate age\n",
    "    age_years, age_months, age_days = cal_age(birth_date, current_date)\n",
    "    print(f\"Your age is {age_years} years, {age_months} months, and {age_days} days.\")\n",
    "else:\n",
    "    print(\"Please enter a valid date of birth.\")\n",
    "    \n"
   ]
  },
  {
   "cell_type": "code",
   "execution_count": 7,
   "id": "5be907fc-35ed-4c2b-8632-81bec8cd2ce9",
   "metadata": {},
   "outputs": [
    {
     "name": "stdout",
     "output_type": "stream",
     "text": [
      "2\n"
     ]
    }
   ],
   "source": [
    "a=2\n",
    "b=3\n",
    "c= a%b\n",
    "print(c)"
   ]
  },
  {
   "cell_type": "code",
   "execution_count": null,
   "id": "0db7bffe-c842-4992-a132-65e29b377f28",
   "metadata": {},
   "outputs": [],
   "source": []
  }
 ],
 "metadata": {
  "kernelspec": {
   "display_name": "Python 3 (ipykernel)",
   "language": "python",
   "name": "python3"
  },
  "language_info": {
   "codemirror_mode": {
    "name": "ipython",
    "version": 3
   },
   "file_extension": ".py",
   "mimetype": "text/x-python",
   "name": "python",
   "nbconvert_exporter": "python",
   "pygments_lexer": "ipython3",
   "version": "3.11.5"
  }
 },
 "nbformat": 4,
 "nbformat_minor": 5
}
